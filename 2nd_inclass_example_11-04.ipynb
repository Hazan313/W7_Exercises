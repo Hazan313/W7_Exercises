{
 "cells": [
  {
   "cell_type": "markdown",
   "id": "d08f2ccc-fc2f-4075-8e98-47c49499469e",
   "metadata": {},
   "source": [
    "# Bess's Really cool Example Notebook\n",
    "\n",
    "###### Examples from python script for beginning NumPy"
   ]
  },
  {
   "cell_type": "code",
   "execution_count": 3,
   "id": "470d7d37-6859-407e-ac7d-416e83ee2426",
   "metadata": {},
   "outputs": [],
   "source": [
    "import numpy as np"
   ]
  },
  {
   "cell_type": "code",
   "execution_count": 7,
   "id": "4c815d3c-8859-48ed-977f-a1526b91a489",
   "metadata": {},
   "outputs": [
    {
     "data": {
      "text/plain": [
       "[('cucumber', 'celery'), ('avacado', 'kale')]"
      ]
     },
     "execution_count": 7,
     "metadata": {},
     "output_type": "execute_result"
    }
   ],
   "source": [
    "veg  = [('cucumber','celery'),('avacado','kale')]\n",
    "veg"
   ]
  },
  {
   "cell_type": "code",
   "execution_count": 5,
   "id": "b0968d96-2a41-4cb8-8cb9-7568366011ca",
   "metadata": {},
   "outputs": [
    {
     "name": "stdout",
     "output_type": "stream",
     "text": [
      "[('cucumber', 'celery'), ('avacado', 'kale')]\n"
     ]
    }
   ],
   "source": [
    "print(veg)"
   ]
  },
  {
   "cell_type": "code",
   "execution_count": 9,
   "id": "5b4cc55d-83ab-40eb-bd4a-062041945c82",
   "metadata": {},
   "outputs": [
    {
     "data": {
      "text/plain": [
       "array([['cucumber', 'celery'],\n",
       "       ['avacado', 'kale']], dtype='<U8')"
      ]
     },
     "execution_count": 9,
     "metadata": {},
     "output_type": "execute_result"
    }
   ],
   "source": [
    "array_veg = np.array(veg)\n",
    "array_veg"
   ]
  },
  {
   "cell_type": "code",
   "execution_count": 10,
   "id": "5848dcee-4602-4228-b094-5f54377d01c4",
   "metadata": {},
   "outputs": [
    {
     "name": "stdout",
     "output_type": "stream",
     "text": [
      "[['cucumber' 'celery']\n",
      " ['avacado' 'kale']]\n"
     ]
    }
   ],
   "source": [
    "print(array_veg)"
   ]
  },
  {
   "cell_type": "code",
   "execution_count": 11,
   "id": "ba00da56-2655-43ea-bbf9-959202c13c62",
   "metadata": {},
   "outputs": [
    {
     "data": {
      "text/plain": [
       "2"
      ]
     },
     "execution_count": 11,
     "metadata": {},
     "output_type": "execute_result"
    }
   ],
   "source": [
    "array_veg.ndim"
   ]
  },
  {
   "cell_type": "code",
   "execution_count": 12,
   "id": "343e936b-2beb-41e1-be30-c353509409bd",
   "metadata": {},
   "outputs": [
    {
     "data": {
      "text/plain": [
       "4"
      ]
     },
     "execution_count": 12,
     "metadata": {},
     "output_type": "execute_result"
    }
   ],
   "source": [
    "array_veg.size"
   ]
  },
  {
   "cell_type": "code",
   "execution_count": 13,
   "id": "ce5a61e8-79bd-422c-9954-1050c0f47060",
   "metadata": {},
   "outputs": [
    {
     "data": {
      "text/plain": [
       "(2, 2)"
      ]
     },
     "execution_count": 13,
     "metadata": {},
     "output_type": "execute_result"
    }
   ],
   "source": [
    "array_veg.shape"
   ]
  },
  {
   "cell_type": "code",
   "execution_count": 14,
   "id": "29eb8b64-4dfb-499b-890d-aafa9ac379ee",
   "metadata": {},
   "outputs": [
    {
     "data": {
      "text/plain": [
       "array([['cucumber', 'avacado'],\n",
       "       ['celery', 'kale']], dtype='<U8')"
      ]
     },
     "execution_count": 14,
     "metadata": {},
     "output_type": "execute_result"
    }
   ],
   "source": [
    "array_veg.T"
   ]
  },
  {
   "cell_type": "code",
   "execution_count": 15,
   "id": "cc5ee4af-541e-49f6-8e2c-aec2bb4326e0",
   "metadata": {},
   "outputs": [
    {
     "data": {
      "text/plain": [
       "array([1.99, 2.99, 3.99, 4.99])"
      ]
     },
     "execution_count": 15,
     "metadata": {},
     "output_type": "execute_result"
    }
   ],
   "source": [
    "array_price = np.array([1.99,2.99,3.99,4.99])\n",
    "array_price"
   ]
  },
  {
   "cell_type": "code",
   "execution_count": null,
   "id": "680f028d-c6d2-472c-8056-8327dc2beaae",
   "metadata": {},
   "outputs": [],
   "source": []
  }
 ],
 "metadata": {
  "kernelspec": {
   "display_name": "Python 3 (ipykernel)",
   "language": "python",
   "name": "python3"
  },
  "language_info": {
   "codemirror_mode": {
    "name": "ipython",
    "version": 3
   },
   "file_extension": ".py",
   "mimetype": "text/x-python",
   "name": "python",
   "nbconvert_exporter": "python",
   "pygments_lexer": "ipython3",
   "version": "3.12.6"
  }
 },
 "nbformat": 4,
 "nbformat_minor": 5
}
