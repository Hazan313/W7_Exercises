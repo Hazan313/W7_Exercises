{
 "cells": [
  {
   "cell_type": "markdown",
   "id": "8c7760e7-05b2-4835-9d01-bc53dbb384d7",
   "metadata": {},
   "source": [
    "# Array basics\n",
    "Exercise 2A NumPy fundamentals\n",
    "    "
   ]
  },
  {
   "cell_type": "code",
   "execution_count": 1,
   "id": "f0eaacd9-720c-4836-9f7f-96338603b8f6",
   "metadata": {},
   "outputs": [],
   "source": [
    "import numpy as np"
   ]
  },
  {
   "cell_type": "code",
   "execution_count": 2,
   "id": "fe46da6f-e288-4f32-a624-247b4f349e3b",
   "metadata": {},
   "outputs": [
    {
     "data": {
      "text/plain": [
       "['apple', 'banana', 'cherry', 'date']"
      ]
     },
     "execution_count": 2,
     "metadata": {},
     "output_type": "execute_result"
    }
   ],
   "source": [
    "fruits = ['apple' , 'banana' , 'cherry', 'date']\n",
    "fruits"
   ]
  },
  {
   "cell_type": "code",
   "execution_count": 3,
   "id": "98a956de-5dc7-4c93-a015-23fac8ba6aef",
   "metadata": {},
   "outputs": [
    {
     "name": "stdout",
     "output_type": "stream",
     "text": [
      "['apple' 'banana' 'cherry' 'date']\n"
     ]
    },
    {
     "data": {
      "text/plain": [
       "array(['apple', 'banana', 'cherry', 'date'], dtype='<U6')"
      ]
     },
     "execution_count": 3,
     "metadata": {},
     "output_type": "execute_result"
    }
   ],
   "source": [
    "arr_1 = np.array(fruits)\n",
    "# print(f\"{arr_1}\")\n",
    "print(arr_1)\n",
    "arr_1"
   ]
  },
  {
   "cell_type": "code",
   "execution_count": 4,
   "id": "98eebd09-8ad7-4e4c-9b20-f6e5e08a502d",
   "metadata": {},
   "outputs": [
    {
     "data": {
      "text/plain": [
       "dtype('<U6')"
      ]
     },
     "execution_count": 4,
     "metadata": {},
     "output_type": "execute_result"
    }
   ],
   "source": [
    "array_type = arr_1.dtype\n",
    "array_type "
   ]
  },
  {
   "cell_type": "markdown",
   "id": "f7b227e4-49e5-499b-80b4-ae985014ac78",
   "metadata": {},
   "source": [
    "The 'U' stands for Unicode string and the number '6' refers to either bytes per item or number of\n",
    "Unicode characters stored "
   ]
  },
  {
   "cell_type": "code",
   "execution_count": 5,
   "id": "f9be841d-63ca-4ddf-a311-8755d75e41a8",
   "metadata": {},
   "outputs": [
    {
     "data": {
      "text/plain": [
       "array([[10, 11, 12],\n",
       "       [13, 14, 15]])"
      ]
     },
     "execution_count": 5,
     "metadata": {},
     "output_type": "execute_result"
    }
   ],
   "source": [
    "arr_2 = np.array(((10,11,12),(13,14,15)))\n",
    "arr_2"
   ]
  },
  {
   "cell_type": "code",
   "execution_count": 6,
   "id": "3eabbd07-734a-4e20-a3dd-616c196f0b7d",
   "metadata": {},
   "outputs": [
    {
     "data": {
      "text/plain": [
       "array([[10, 13],\n",
       "       [11, 14],\n",
       "       [12, 15]])"
      ]
     },
     "execution_count": 6,
     "metadata": {},
     "output_type": "execute_result"
    }
   ],
   "source": [
    "arr_2_T = arr_2.transpose() # or the following can be used :  arr_2_T = arr_2.T\n",
    "arr_2_T"
   ]
  },
  {
   "cell_type": "markdown",
   "id": "de4cd5bb-3f88-4257-8d33-c4f21c5c313f",
   "metadata": {},
   "source": [
    "Transposing the data does not alter the value found in the data. It just switches the rows and columns of a dataset (Transposing is useful when you need to reorient your data for analysis or visualization)"
   ]
  },
  {
   "cell_type": "code",
   "execution_count": 7,
   "id": "449e3159-682f-41f5-892c-64833dcc6f97",
   "metadata": {},
   "outputs": [
    {
     "data": {
      "text/plain": [
       "array([[1, 3, 5],\n",
       "       [2, 4, 6]])"
      ]
     },
     "execution_count": 7,
     "metadata": {},
     "output_type": "execute_result"
    }
   ],
   "source": [
    "arr_3 = np.array(((1,3,5),(2,4,6)))\n",
    "arr_3"
   ]
  },
  {
   "cell_type": "code",
   "execution_count": 13,
   "id": "b61b82f9-cfa0-43dc-8549-36f5f1bfa3a9",
   "metadata": {},
   "outputs": [
    {
     "data": {
      "text/plain": [
       "array([5, 4])"
      ]
     },
     "execution_count": 13,
     "metadata": {},
     "output_type": "execute_result"
    }
   ],
   "source": [
    "arr_4 = np.array(   ( (arr_3[0,2] , arr_3[1,1]) )   )\n",
    "arr_4"
   ]
  },
  {
   "cell_type": "code",
   "execution_count": 18,
   "id": "2fac5b79-d73d-4dce-bc3c-fb8db22f0f6c",
   "metadata": {},
   "outputs": [
    {
     "data": {
      "text/plain": [
       "array([[1, 1],\n",
       "       [1, 1],\n",
       "       [1, 1]])"
      ]
     },
     "execution_count": 18,
     "metadata": {},
     "output_type": "execute_result"
    }
   ],
   "source": [
    "arr_5 = np.array(   [ (1,1), (1,1), (1,1) ]   )\n",
    "arr_5"
   ]
  },
  {
   "cell_type": "code",
   "execution_count": null,
   "id": "3cb102fe-3850-4685-9a09-729d8d478bf6",
   "metadata": {},
   "outputs": [],
   "source": []
  }
 ],
 "metadata": {
  "kernelspec": {
   "display_name": "Python 3 (ipykernel)",
   "language": "python",
   "name": "python3"
  },
  "language_info": {
   "codemirror_mode": {
    "name": "ipython",
    "version": 3
   },
   "file_extension": ".py",
   "mimetype": "text/x-python",
   "name": "python",
   "nbconvert_exporter": "python",
   "pygments_lexer": "ipython3",
   "version": "3.12.6"
  }
 },
 "nbformat": 4,
 "nbformat_minor": 5
}
