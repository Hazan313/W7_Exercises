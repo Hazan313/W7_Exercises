{
 "cells": [
  {
   "cell_type": "code",
   "execution_count": 68,
   "id": "45389022-d267-43a6-8a0e-2b4099bb1a7e",
   "metadata": {},
   "outputs": [],
   "source": [
    "import numpy as np"
   ]
  },
  {
   "cell_type": "markdown",
   "id": "295ae1e6-1398-49dc-8b82-31240062adf5",
   "metadata": {},
   "source": [
    "### Looping Through Arrays"
   ]
  },
  {
   "cell_type": "code",
   "execution_count": 69,
   "id": "1d975b43-fea2-4b17-b3a4-6e8f7cb01a65",
   "metadata": {},
   "outputs": [
    {
     "data": {
      "text/plain": [
       "array([[11, 12],\n",
       "       [13, 14],\n",
       "       [15, 16]])"
      ]
     },
     "execution_count": 69,
     "metadata": {},
     "output_type": "execute_result"
    }
   ],
   "source": [
    "arrA = np.array(   [[11,12],[13,14],[15,16]]  )\n",
    "arrA.ndim\n",
    "arrA"
   ]
  },
  {
   "cell_type": "code",
   "execution_count": 70,
   "id": "526a0a2e-013d-4ff2-9fef-17a85bc16fbe",
   "metadata": {},
   "outputs": [
    {
     "data": {
      "text/plain": [
       "2"
      ]
     },
     "execution_count": 70,
     "metadata": {},
     "output_type": "execute_result"
    }
   ],
   "source": [
    "arrA.ndim"
   ]
  },
  {
   "cell_type": "code",
   "execution_count": 71,
   "id": "b7a10a5c-e99d-48f8-a777-d91550f78eac",
   "metadata": {},
   "outputs": [
    {
     "data": {
      "text/plain": [
       "array([[11, 13, 15],\n",
       "       [12, 14, 16]])"
      ]
     },
     "execution_count": 71,
     "metadata": {},
     "output_type": "execute_result"
    }
   ],
   "source": [
    "arrA.T"
   ]
  },
  {
   "cell_type": "code",
   "execution_count": 72,
   "id": "61611459-5a28-4a8a-831e-d2cc783f3ef7",
   "metadata": {},
   "outputs": [
    {
     "name": "stdout",
     "output_type": "stream",
     "text": [
      "[11 12]\n",
      "[13 14]\n",
      "[15 16]\n"
     ]
    }
   ],
   "source": [
    "for x in arrA:\n",
    "    print(x)\n",
    "    "
   ]
  },
  {
   "cell_type": "code",
   "execution_count": 73,
   "id": "041530b8-a420-4f4b-afff-d07e964c0e83",
   "metadata": {},
   "outputs": [
    {
     "name": "stdout",
     "output_type": "stream",
     "text": [
      "11\n",
      "12\n",
      "13\n",
      "14\n",
      "15\n",
      "16\n"
     ]
    }
   ],
   "source": [
    "for x in arrA:\n",
    "    for y in x:\n",
    "        print(y)"
   ]
  },
  {
   "cell_type": "markdown",
   "id": "09a42898-15f5-4462-8fff-e5d1bf333831",
   "metadata": {},
   "source": [
    "First level loop runs against outermost dimension. Second level loop runs against inner most dimension. Each nested loop\n",
    "runs against next inner dimension. The different results displays the different dimensions."
   ]
  },
  {
   "cell_type": "code",
   "execution_count": 74,
   "id": "c84cdd1e-1df8-44af-b33b-9fbeda5feb02",
   "metadata": {
    "scrolled": true
   },
   "outputs": [
    {
     "name": "stdout",
     "output_type": "stream",
     "text": [
      "11\n",
      "\n",
      "22\n",
      "\n",
      "[22 24]\n",
      "12\n",
      "\n",
      "24\n",
      "\n",
      "[22 24]\n",
      "13\n",
      "\n",
      "26\n",
      "\n",
      "[26 28]\n",
      "14\n",
      "\n",
      "28\n",
      "\n",
      "[26 28]\n",
      "15\n",
      "\n",
      "30\n",
      "\n",
      "[30 32]\n",
      "16\n",
      "\n",
      "32\n",
      "\n",
      "[30 32]\n"
     ]
    }
   ],
   "source": [
    "for x in arrA:\n",
    "    loop_result2=(x*2)\n",
    "    for y in x:\n",
    "        loop_result = (y*2)\n",
    "        print(y)\n",
    "        print('')\n",
    "        print(loop_result)\n",
    "        print('')\n",
    "        print(loop_result2)\n",
    "\n",
    "#print(loop_result)\n",
    "#loop_result2"
   ]
  },
  {
   "cell_type": "markdown",
   "id": "b363ee6a-5bba-4077-b883-e7e3a7bc0d2f",
   "metadata": {},
   "source": [
    "### Joining and Stacking Arrays"
   ]
  },
  {
   "cell_type": "code",
   "execution_count": 75,
   "id": "73535f99-eca4-479f-9777-6cc92c5a0e8c",
   "metadata": {},
   "outputs": [
    {
     "data": {
      "text/plain": [
       "array([[11, 12],\n",
       "       [13, 14],\n",
       "       [15, 16],\n",
       "       [11, 12],\n",
       "       [13, 14],\n",
       "       [15, 16]])"
      ]
     },
     "execution_count": 75,
     "metadata": {},
     "output_type": "execute_result"
    }
   ],
   "source": [
    "joined_array_1 = np.concatenate((arrA,arrA), axis=0)\n",
    "joined_array_1"
   ]
  },
  {
   "cell_type": "code",
   "execution_count": 76,
   "id": "03daab23-0566-40ba-a27b-c1e5164212c0",
   "metadata": {},
   "outputs": [
    {
     "data": {
      "text/plain": [
       "array([[11, 12, 11, 12],\n",
       "       [13, 14, 13, 14],\n",
       "       [15, 16, 15, 16]])"
      ]
     },
     "execution_count": 76,
     "metadata": {},
     "output_type": "execute_result"
    }
   ],
   "source": [
    "joined_array_2 = np.concatenate((arrA,arrA), axis=1)\n",
    "joined_array_2"
   ]
  },
  {
   "cell_type": "code",
   "execution_count": 77,
   "id": "5c7ef36b-9ad6-4e69-a8dd-0870d2b56559",
   "metadata": {},
   "outputs": [
    {
     "data": {
      "text/plain": [
       "array([[[11, 12],\n",
       "        [13, 14],\n",
       "        [15, 16],\n",
       "        [11, 12],\n",
       "        [13, 14],\n",
       "        [15, 16]],\n",
       "\n",
       "       [[11, 12],\n",
       "        [13, 14],\n",
       "        [15, 16],\n",
       "        [11, 12],\n",
       "        [13, 14],\n",
       "        [15, 16]]])"
      ]
     },
     "execution_count": 77,
     "metadata": {},
     "output_type": "execute_result"
    }
   ],
   "source": [
    "stacked_array_1 = np.stack((joined_array_1, joined_array_1))\n",
    "stacked_array_1"
   ]
  },
  {
   "cell_type": "code",
   "execution_count": 78,
   "id": "72d42478-834e-4941-a339-597e2397ad5c",
   "metadata": {},
   "outputs": [
    {
     "ename": "ValueError",
     "evalue": "all input arrays must have the same shape",
     "output_type": "error",
     "traceback": [
      "\u001b[1;31m---------------------------------------------------------------------------\u001b[0m",
      "\u001b[1;31mValueError\u001b[0m                                Traceback (most recent call last)",
      "Cell \u001b[1;32mIn[78], line 1\u001b[0m\n\u001b[1;32m----> 1\u001b[0m stacked_array_2 \u001b[38;5;241m=\u001b[39m \u001b[43mnp\u001b[49m\u001b[38;5;241;43m.\u001b[39;49m\u001b[43mstack\u001b[49m\u001b[43m(\u001b[49m\u001b[43m(\u001b[49m\u001b[43mjoined_array_1\u001b[49m\u001b[43m,\u001b[49m\u001b[43m \u001b[49m\u001b[43mjoined_array_2\u001b[49m\u001b[43m)\u001b[49m\u001b[43m)\u001b[49m\n\u001b[0;32m      2\u001b[0m stacked_array_2 \n\u001b[0;32m      3\u001b[0m \u001b[38;5;66;03m# Error message received: [ ValueError: all input arrays must have the same shape  ] Arrays with Different shapes cannot be stacked\u001b[39;00m\n",
      "File \u001b[1;32m~\\AppData\\Roaming\\Python\\Python312\\site-packages\\numpy\\_core\\shape_base.py:457\u001b[0m, in \u001b[0;36mstack\u001b[1;34m(arrays, axis, out, dtype, casting)\u001b[0m\n\u001b[0;32m    455\u001b[0m shapes \u001b[38;5;241m=\u001b[39m {arr\u001b[38;5;241m.\u001b[39mshape \u001b[38;5;28;01mfor\u001b[39;00m arr \u001b[38;5;129;01min\u001b[39;00m arrays}\n\u001b[0;32m    456\u001b[0m \u001b[38;5;28;01mif\u001b[39;00m \u001b[38;5;28mlen\u001b[39m(shapes) \u001b[38;5;241m!=\u001b[39m \u001b[38;5;241m1\u001b[39m:\n\u001b[1;32m--> 457\u001b[0m     \u001b[38;5;28;01mraise\u001b[39;00m \u001b[38;5;167;01mValueError\u001b[39;00m(\u001b[38;5;124m'\u001b[39m\u001b[38;5;124mall input arrays must have the same shape\u001b[39m\u001b[38;5;124m'\u001b[39m)\n\u001b[0;32m    459\u001b[0m result_ndim \u001b[38;5;241m=\u001b[39m arrays[\u001b[38;5;241m0\u001b[39m]\u001b[38;5;241m.\u001b[39mndim \u001b[38;5;241m+\u001b[39m \u001b[38;5;241m1\u001b[39m\n\u001b[0;32m    460\u001b[0m axis \u001b[38;5;241m=\u001b[39m normalize_axis_index(axis, result_ndim)\n",
      "\u001b[1;31mValueError\u001b[0m: all input arrays must have the same shape"
     ]
    }
   ],
   "source": [
    "stacked_array_2 = np.stack((joined_array_1, joined_array_2))\n",
    "stacked_array_2 \n",
    "# Error message received: [ ValueError: all input arrays must have the same shape  ] Arrays with Different shapes cannot be stacked"
   ]
  },
  {
   "cell_type": "code",
   "execution_count": 79,
   "id": "6c9ad214-3988-4671-bb3b-43e0fff39b33",
   "metadata": {},
   "outputs": [
    {
     "data": {
      "text/plain": [
       "array([[11, 12],\n",
       "       [13, 14],\n",
       "       [15, 16],\n",
       "       [11, 12],\n",
       "       [13, 14],\n",
       "       [15, 16],\n",
       "       [11, 12],\n",
       "       [13, 14],\n",
       "       [15, 16]])"
      ]
     },
     "execution_count": 79,
     "metadata": {},
     "output_type": "execute_result"
    }
   ],
   "source": [
    "another_joined_array = np.concatenate((joined_array_1, arrA))\n",
    "another_joined_array"
   ]
  },
  {
   "cell_type": "code",
   "execution_count": 80,
   "id": "2af2420e-b287-4e98-81dd-8f2a1195607a",
   "metadata": {},
   "outputs": [
    {
     "ename": "ValueError",
     "evalue": "all the input array dimensions except for the concatenation axis must match exactly, but along dimension 0, the array at index 0 has size 6 and the array at index 1 has size 3",
     "output_type": "error",
     "traceback": [
      "\u001b[1;31m---------------------------------------------------------------------------\u001b[0m",
      "\u001b[1;31mValueError\u001b[0m                                Traceback (most recent call last)",
      "Cell \u001b[1;32mIn[80], line 1\u001b[0m\n\u001b[1;32m----> 1\u001b[0m another_2 \u001b[38;5;241m=\u001b[39m \u001b[43mnp\u001b[49m\u001b[38;5;241;43m.\u001b[39;49m\u001b[43mconcatenate\u001b[49m\u001b[43m(\u001b[49m\u001b[43m(\u001b[49m\u001b[43mjoined_array_1\u001b[49m\u001b[43m,\u001b[49m\u001b[43m \u001b[49m\u001b[43marrA\u001b[49m\u001b[43m)\u001b[49m\u001b[43m,\u001b[49m\u001b[43m \u001b[49m\u001b[43maxis\u001b[49m\u001b[38;5;241;43m=\u001b[39;49m\u001b[38;5;241;43m1\u001b[39;49m\u001b[43m)\u001b[49m\n\u001b[0;32m      2\u001b[0m another_2\n\u001b[0;32m      3\u001b[0m \u001b[38;5;66;03m# The size of the arrays have to be the same in order to concatenate. The array indexes have to have the same sized elements to join.\u001b[39;00m\n",
      "\u001b[1;31mValueError\u001b[0m: all the input array dimensions except for the concatenation axis must match exactly, but along dimension 0, the array at index 0 has size 6 and the array at index 1 has size 3"
     ]
    }
   ],
   "source": [
    "another_2 = np.concatenate((joined_array_1, arrA), axis=1)\n",
    "another_2\n",
    "# The size of the arrays have to be the same in order to concatenate. The array indexes have to have the same sized elements to join."
   ]
  },
  {
   "cell_type": "code",
   "execution_count": 81,
   "id": "51cf4f49-11dc-4759-a8ac-6f32e4f89b09",
   "metadata": {},
   "outputs": [
    {
     "name": "stdout",
     "output_type": "stream",
     "text": [
      "[[11 12 11 12]\n",
      " [13 14 13 14]\n",
      " [15 16 15 16]]\n",
      "\n",
      "[[11 12]\n",
      " [13 14]\n",
      " [15 16]\n",
      " [11 12]\n",
      " [13 14]\n",
      " [15 16]]\n",
      "\n",
      "[[[11 11]\n",
      "  [12 12]]\n",
      "\n",
      " [[13 13]\n",
      "  [14 14]]\n",
      "\n",
      " [[15 15]\n",
      "  [16 16]]]\n"
     ]
    }
   ],
   "source": [
    "varhs = np.hstack((arrA,arrA))\n",
    "print(varhs)\n",
    "# This function stacks together arrays along the horizontal / rows axis \n",
    "print('')\n",
    "varvs = np.vstack((arrA,arrA))\n",
    "print(varvs)\n",
    "# This function stacks arrays together along the vertical / columns axis\n",
    "print('')\n",
    "vards = np.dstack((arrA,arrA))\n",
    "print(vards)\n",
    "# This function stacks arrays together along the height / depth axis"
   ]
  },
  {
   "cell_type": "markdown",
   "id": "3b9815c2-4a49-4a02-baa1-f62b0a2ec169",
   "metadata": {},
   "source": [
    "### Splitting Arrays"
   ]
  },
  {
   "cell_type": "code",
   "execution_count": 82,
   "id": "27b5c4be-cf69-494a-851a-5d0febd684df",
   "metadata": {},
   "outputs": [
    {
     "name": "stdout",
     "output_type": "stream",
     "text": [
      "[array([[11, 12],\n",
      "       [13, 14],\n",
      "       [15, 16]]), array([[11, 12],\n",
      "       [13, 14],\n",
      "       [15, 16]])]\n"
     ]
    }
   ],
   "source": [
    "splitsky = np.array_split(joined_array_1,2)\n",
    "print(splitsky)\n",
    "# The original array has been split into 2 different arrays, each with 1 dimension only, containing 3 pairs of elements within each dimension"
   ]
  },
  {
   "cell_type": "code",
   "execution_count": 83,
   "id": "e2739fb4-bcc4-423c-b05b-a5c9565a39f2",
   "metadata": {},
   "outputs": [
    {
     "name": "stdout",
     "output_type": "stream",
     "text": [
      "[array([[11, 12],\n",
      "       [13, 14]]), array([[15, 16],\n",
      "       [11, 12]]), array([[13, 14],\n",
      "       [15, 16]])]\n"
     ]
    }
   ],
   "source": [
    "splitterino = np.array_split(joined_array_1,3)\n",
    "print(splitterino)\n",
    "# The original array has been split into 3 different arrays, each array containig a single dimension and a pair of paired elements within each dimension"
   ]
  },
  {
   "cell_type": "markdown",
   "id": "33399aab-9721-4582-a9ae-ff08102f166d",
   "metadata": {},
   "source": [
    "### Searching and Replacing Array Values."
   ]
  },
  {
   "cell_type": "code",
   "execution_count": 84,
   "id": "5d8b0d60-3921-4cf1-b767-3dd73b3fdd5e",
   "metadata": {},
   "outputs": [
    {
     "name": "stdout",
     "output_type": "stream",
     "text": [
      "\n",
      "[['odd' '12']\n",
      " ['odd' '14']\n",
      " ['odd' '16']]\n"
     ]
    }
   ],
   "source": [
    "result_1 = np.where(arrA % 2 == 0 , arrA, 'odd')\n",
    "print('')\n",
    "print(result_1)"
   ]
  },
  {
   "cell_type": "markdown",
   "id": "654dfefd-ce79-49d3-82e3-eb949a8f5410",
   "metadata": {},
   "source": [
    "### Sorting and Filtering Arrays"
   ]
  },
  {
   "cell_type": "code",
   "execution_count": 85,
   "id": "ecbb2e77-7f02-48e1-971a-db1a525c5c3e",
   "metadata": {},
   "outputs": [
    {
     "data": {
      "text/plain": [
       "array([[ 7,  6],\n",
       "       [13,  5],\n",
       "       [ 7,  3]])"
      ]
     },
     "execution_count": 85,
     "metadata": {},
     "output_type": "execute_result"
    }
   ],
   "source": [
    "arrB = np.array( ((7,6),(13,5) , (7,3)) )\n",
    "arrB\n"
   ]
  },
  {
   "cell_type": "code",
   "execution_count": 86,
   "id": "4e2c6d4f-f677-4e13-ac28-62eedbc92f6e",
   "metadata": {},
   "outputs": [
    {
     "data": {
      "text/plain": [
       "2"
      ]
     },
     "execution_count": 86,
     "metadata": {},
     "output_type": "execute_result"
    }
   ],
   "source": [
    "arrB.ndim"
   ]
  },
  {
   "cell_type": "code",
   "execution_count": 103,
   "id": "df6b6bd6-79af-465d-9df9-a07d17e48acc",
   "metadata": {},
   "outputs": [
    {
     "name": "stdout",
     "output_type": "stream",
     "text": [
      "[[ 6  7]\n",
      " [ 5 13]\n",
      " [ 3  7]]\n"
     ]
    }
   ],
   "source": [
    "arrB_sorted = (np.sort(arrB))\n",
    "print(arrB_sorted)"
   ]
  },
  {
   "cell_type": "code",
   "execution_count": 104,
   "id": "3a0848a8-1a42-4568-9a83-34297afbf668",
   "metadata": {},
   "outputs": [
    {
     "name": "stdout",
     "output_type": "stream",
     "text": [
      "[[ 7  6]\n",
      " [13  5]\n",
      " [ 7  3]]\n",
      "\n",
      "[6 5 3]\n"
     ]
    }
   ],
   "source": [
    "print(arrB)\n",
    "print('')\n",
    "z = arrB < 7\n",
    "arrC = arrB[z]\n",
    "print(arrC)"
   ]
  },
  {
   "cell_type": "code",
   "execution_count": 105,
   "id": "e9f5803a-75cd-4bdb-ba73-8309af536ee9",
   "metadata": {},
   "outputs": [
    {
     "name": "stdout",
     "output_type": "stream",
     "text": [
      "[[ 7  6]\n",
      " [13  5]\n",
      " [ 7  3]]\n",
      "\n",
      "[13]\n"
     ]
    }
   ],
   "source": [
    "print(arrB)\n",
    "print('')\n",
    "y = arrB > 7\n",
    "arrD = arrB[y]\n",
    "print(arrD)"
   ]
  },
  {
   "cell_type": "code",
   "execution_count": null,
   "id": "c268cc25-0e97-4282-bbc2-e86ca12da45b",
   "metadata": {},
   "outputs": [],
   "source": []
  }
 ],
 "metadata": {
  "kernelspec": {
   "display_name": "Python 3 (ipykernel)",
   "language": "python",
   "name": "python3"
  },
  "language_info": {
   "codemirror_mode": {
    "name": "ipython",
    "version": 3
   },
   "file_extension": ".py",
   "mimetype": "text/x-python",
   "name": "python",
   "nbconvert_exporter": "python",
   "pygments_lexer": "ipython3",
   "version": "3.12.6"
  }
 },
 "nbformat": 4,
 "nbformat_minor": 5
}
