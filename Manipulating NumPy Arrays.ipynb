{
 "cells": [
  {
   "cell_type": "code",
   "execution_count": 1,
   "id": "45389022-d267-43a6-8a0e-2b4099bb1a7e",
   "metadata": {},
   "outputs": [],
   "source": [
    "import numpy as np"
   ]
  },
  {
   "cell_type": "markdown",
   "id": "295ae1e6-1398-49dc-8b82-31240062adf5",
   "metadata": {},
   "source": [
    "### Looping Through Arrays"
   ]
  },
  {
   "cell_type": "code",
   "execution_count": 23,
   "id": "1d975b43-fea2-4b17-b3a4-6e8f7cb01a65",
   "metadata": {},
   "outputs": [
    {
     "data": {
      "text/plain": [
       "array([[1, 1],\n",
       "       [2, 2],\n",
       "       [3, 3]])"
      ]
     },
     "execution_count": 23,
     "metadata": {},
     "output_type": "execute_result"
    }
   ],
   "source": [
    "arrA = np.array([[1,1],[2,2],[3,3]])\n",
    "arrA.ndim\n",
    "arrA"
   ]
  },
  {
   "cell_type": "code",
   "execution_count": 24,
   "id": "526a0a2e-013d-4ff2-9fef-17a85bc16fbe",
   "metadata": {},
   "outputs": [
    {
     "data": {
      "text/plain": [
       "2"
      ]
     },
     "execution_count": 24,
     "metadata": {},
     "output_type": "execute_result"
    }
   ],
   "source": [
    "arrA.ndim"
   ]
  },
  {
   "cell_type": "code",
   "execution_count": 36,
   "id": "b7a10a5c-e99d-48f8-a777-d91550f78eac",
   "metadata": {},
   "outputs": [
    {
     "data": {
      "text/plain": [
       "array([[1, 2, 3],\n",
       "       [1, 2, 3]])"
      ]
     },
     "execution_count": 36,
     "metadata": {},
     "output_type": "execute_result"
    }
   ],
   "source": [
    "arrA.T"
   ]
  },
  {
   "cell_type": "code",
   "execution_count": 30,
   "id": "61611459-5a28-4a8a-831e-d2cc783f3ef7",
   "metadata": {},
   "outputs": [
    {
     "name": "stdout",
     "output_type": "stream",
     "text": [
      "[1 1]\n",
      "[2 2]\n",
      "[3 3]\n"
     ]
    }
   ],
   "source": [
    "for x in arrA:\n",
    "    print(x)\n",
    "    "
   ]
  },
  {
   "cell_type": "code",
   "execution_count": 31,
   "id": "041530b8-a420-4f4b-afff-d07e964c0e83",
   "metadata": {},
   "outputs": [
    {
     "name": "stdout",
     "output_type": "stream",
     "text": [
      "1\n",
      "1\n",
      "2\n",
      "2\n",
      "3\n",
      "3\n"
     ]
    }
   ],
   "source": [
    "for x in arrA:\n",
    "    for y in x:\n",
    "        print(y)"
   ]
  },
  {
   "cell_type": "markdown",
   "id": "09a42898-15f5-4462-8fff-e5d1bf333831",
   "metadata": {},
   "source": [
    "First level loop runs against outermost dimension. Second level loop runs against inner most dimension. Each nested loop\n",
    "runs against next inner dimension. The different results displays the different dimensions."
   ]
  },
  {
   "cell_type": "code",
   "execution_count": 35,
   "id": "c84cdd1e-1df8-44af-b33b-9fbeda5feb02",
   "metadata": {},
   "outputs": [
    {
     "name": "stdout",
     "output_type": "stream",
     "text": [
      "1\n",
      "[2 2]\n",
      "1\n",
      "[2 2]\n",
      "2\n",
      "[4 4]\n",
      "2\n",
      "[4 4]\n",
      "3\n",
      "[6 6]\n",
      "3\n",
      "[6 6]\n"
     ]
    }
   ],
   "source": [
    "for x in arrA:\n",
    "    loop_result2=(x*2)\n",
    "    for y in x:\n",
    "        loop_result = (x*2)\n",
    "        print(y)\n",
    "        print(loop_result)\n",
    "\n",
    "#print(loop_result)\n",
    "#loop_result2"
   ]
  },
  {
   "cell_type": "code",
   "execution_count": null,
   "id": "4a76b570-c760-4211-a0ae-86af4535202a",
   "metadata": {},
   "outputs": [],
   "source": []
  }
 ],
 "metadata": {
  "kernelspec": {
   "display_name": "Python 3 (ipykernel)",
   "language": "python",
   "name": "python3"
  },
  "language_info": {
   "codemirror_mode": {
    "name": "ipython",
    "version": 3
   },
   "file_extension": ".py",
   "mimetype": "text/x-python",
   "name": "python",
   "nbconvert_exporter": "python",
   "pygments_lexer": "ipython3",
   "version": "3.12.6"
  }
 },
 "nbformat": 4,
 "nbformat_minor": 5
}
